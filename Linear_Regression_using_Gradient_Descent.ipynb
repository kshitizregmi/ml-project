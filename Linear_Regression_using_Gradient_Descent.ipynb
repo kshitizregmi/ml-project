{
  "nbformat": 4,
  "nbformat_minor": 0,
  "metadata": {
    "colab": {
      "name": "Linear_Regression using_Gradient_Descent.ipynb",
      "version": "0.3.2",
      "provenance": [],
      "collapsed_sections": []
    },
    "kernelspec": {
      "name": "python3",
      "display_name": "Python 3"
    }
  },
  "cells": [
    {
      "cell_type": "markdown",
      "metadata": {
        "id": "8y0mlNP4NgGq",
        "colab_type": "text"
      },
      "source": [
        "**An Introduction to Gradient Descent and Linear Regression**\n",
        "\n",
        "---\n",
        "\n",
        "This example project demonstrates how the gradient descent algorithm may be used to solve a linear regression problem.\n",
        "\n",
        "\n"
      ]
    },
    {
      "cell_type": "code",
      "metadata": {
        "id": "eSeaCfyGNqb3",
        "colab_type": "code",
        "colab": {}
      },
      "source": [
        "import pandas as pd\n",
        "import numpy as np\n",
        "from numpy import *"
      ],
      "execution_count": 0,
      "outputs": []
    },
    {
      "cell_type": "code",
      "metadata": {
        "id": "fnt_nY658Gf2",
        "colab_type": "code",
        "colab": {}
      },
      "source": [
        "datapoints = pd.read_csv('https://raw.githubusercontent.com/llSourcell/linear_regression_live/master/data.csv',delimiter = ',',names=['x','y'])"
      ],
      "execution_count": 0,
      "outputs": []
    },
    {
      "cell_type": "code",
      "metadata": {
        "id": "6-mDnp6Z8LfF",
        "colab_type": "code",
        "colab": {
          "base_uri": "https://localhost:8080/",
          "height": 204
        },
        "outputId": "37395f0a-be3d-4bc6-f361-cc388db02c26"
      },
      "source": [
        "datapoints.head()"
      ],
      "execution_count": 3,
      "outputs": [
        {
          "output_type": "execute_result",
          "data": {
            "text/html": [
              "<div>\n",
              "<style scoped>\n",
              "    .dataframe tbody tr th:only-of-type {\n",
              "        vertical-align: middle;\n",
              "    }\n",
              "\n",
              "    .dataframe tbody tr th {\n",
              "        vertical-align: top;\n",
              "    }\n",
              "\n",
              "    .dataframe thead th {\n",
              "        text-align: right;\n",
              "    }\n",
              "</style>\n",
              "<table border=\"1\" class=\"dataframe\">\n",
              "  <thead>\n",
              "    <tr style=\"text-align: right;\">\n",
              "      <th></th>\n",
              "      <th>x</th>\n",
              "      <th>y</th>\n",
              "    </tr>\n",
              "  </thead>\n",
              "  <tbody>\n",
              "    <tr>\n",
              "      <th>0</th>\n",
              "      <td>32.502345</td>\n",
              "      <td>31.707006</td>\n",
              "    </tr>\n",
              "    <tr>\n",
              "      <th>1</th>\n",
              "      <td>53.426804</td>\n",
              "      <td>68.777596</td>\n",
              "    </tr>\n",
              "    <tr>\n",
              "      <th>2</th>\n",
              "      <td>61.530358</td>\n",
              "      <td>62.562382</td>\n",
              "    </tr>\n",
              "    <tr>\n",
              "      <th>3</th>\n",
              "      <td>47.475640</td>\n",
              "      <td>71.546632</td>\n",
              "    </tr>\n",
              "    <tr>\n",
              "      <th>4</th>\n",
              "      <td>59.813208</td>\n",
              "      <td>87.230925</td>\n",
              "    </tr>\n",
              "  </tbody>\n",
              "</table>\n",
              "</div>"
            ],
            "text/plain": [
              "           x          y\n",
              "0  32.502345  31.707006\n",
              "1  53.426804  68.777596\n",
              "2  61.530358  62.562382\n",
              "3  47.475640  71.546632\n",
              "4  59.813208  87.230925"
            ]
          },
          "metadata": {
            "tags": []
          },
          "execution_count": 3
        }
      ]
    },
    {
      "cell_type": "code",
      "metadata": {
        "id": "foPQGa1C8icY",
        "colab_type": "code",
        "colab": {}
      },
      "source": [
        "learning_rate = 0.0001 # hyperparameter---- how fast our model learns "
      ],
      "execution_count": 0,
      "outputs": []
    },
    {
      "cell_type": "code",
      "metadata": {
        "id": "snn-jGyF8uvM",
        "colab_type": "code",
        "colab": {}
      },
      "source": [
        "## Y = mx + b\n",
        "initial_b = 0\n",
        "initial_m =0 "
      ],
      "execution_count": 0,
      "outputs": []
    },
    {
      "cell_type": "code",
      "metadata": {
        "id": "ccWLmWVV9IA2",
        "colab_type": "code",
        "colab": {}
      },
      "source": [
        "num_of_iteration =1000"
      ],
      "execution_count": 0,
      "outputs": []
    },
    {
      "cell_type": "markdown",
      "metadata": {
        "id": "pPNJi7-UJ8n6",
        "colab_type": "text"
      },
      "source": [
        "**Mean Squared Error Definition**\n",
        "\n",
        "\n",
        "\n",
        "```\n",
        "The mean squared error tells you how close a regression line is to a set of points. It does this by taking the distances from the points to the regression line (these distances are the “errors”) and squaring them. The squaring is necessary to remove any negative signs. It also gives more weight to larger differences. It’s called the mean squared error as you’re finding the average of a set of errors.\n",
        "```\n",
        "The smaller the mean squared error, the closer you are to finding the line of best fit. Depending on your data, it may be impossible to get a very small value for the mean squared error.\n",
        "\n",
        "[MSE](https://www.statisticshowto.datasciencecentral.com/mean-squared-error/)\n",
        "\n",
        "![alt text](https://spin.atomicobject.com/wp-content/uploads/linear_regression_error1.png)\n"
      ]
    },
    {
      "cell_type": "code",
      "metadata": {
        "id": "nCltdJvU_kk2",
        "colab_type": "code",
        "colab": {}
      },
      "source": [
        "#MSE\n",
        "def compute_error_for_points(b,m,points):\n",
        "    total_error =0\n",
        "    for i in range(0,len(points)):\n",
        "        x = points[i,0]\n",
        "        y = points[0,1]\n",
        "        total_error +=(y-(m *x + b ))**2\n",
        "    return total_error/ float(len(points))"
      ],
      "execution_count": 0,
      "outputs": []
    },
    {
      "cell_type": "markdown",
      "metadata": {
        "id": "9rXc0w3pQaLe",
        "colab_type": "text"
      },
      "source": [
        "**Gradient Descent**\n",
        "\n",
        "---\n",
        "Gradient descent is a first-order iterative optimization algorithm for finding the minimum of a function.\n",
        "\n",
        "To run gradient descent on  error function, we first need to compute its gradient. The gradient will act like a compass and always point us downhill. To compute it, we will need to differentiate our error function. Since our function is defined by two parameters (m and  b), we will need to compute a partial derivative for each. These derivatives work out to be:\n",
        "\n",
        "![alt text](https://spin.atomicobject.com/wp-content/uploads/linear_regression_gradient1.png)\n",
        "\n",
        "\n",
        "![alt text](https://raw.githubusercontent.com/mattnedrich/GradientDescentExample/master/gradient_descent_example.gif)"
      ]
    },
    {
      "cell_type": "code",
      "metadata": {
        "id": "5zP-AuPh_Nuu",
        "colab_type": "code",
        "colab": {}
      },
      "source": [
        "def step_gradient(b,m,datapoints,learning_rate):\n",
        "    ### gradient descent\n",
        "    b_gradient = 0\n",
        "    m_gradient = 0\n",
        "    N = float(len(datapoints))\n",
        "    for i in range(0,len(datapoints)):\n",
        "        x = datapoints[i,0]\n",
        "        y = datapoints[i,1]\n",
        "        b_gradient += -(2/N)* (y - (m * x )+ b)\n",
        "        m_gradient += -(2/N)* x * (y - (m * x )+ b)\n",
        "    new_b = b -(learning_rate * b_gradient)\n",
        "    new_m = m -(learning_rate * m_gradient)\n",
        "    return [new_b , new_m]\n",
        "    "
      ],
      "execution_count": 0,
      "outputs": []
    },
    {
      "cell_type": "code",
      "metadata": {
        "id": "CR4fvH5p-Mh3",
        "colab_type": "code",
        "colab": {}
      },
      "source": [
        "def gradient_descent_runner(datapoints , initial_b , initial_m , learning_rate ,num_of_iteration ):\n",
        "    b=initial_b\n",
        "    m=initial_m\n",
        "    \n",
        "    for i in range(0 ,num_of_iteration):\n",
        "        b,m = step_gradient(b,m,array(datapoints),learning_rate)\n",
        "    return [b,m] \n",
        "    "
      ],
      "execution_count": 0,
      "outputs": []
    },
    {
      "cell_type": "code",
      "metadata": {
        "id": "DVUbjgrg9Ru6",
        "colab_type": "code",
        "colab": {}
      },
      "source": [
        "[b, m ] = gradient_descent_runner(datapoints , initial_b , initial_m , learning_rate ,num_of_iteration )"
      ],
      "execution_count": 0,
      "outputs": []
    },
    {
      "cell_type": "code",
      "metadata": {
        "id": "i6rt2IS498VK",
        "colab_type": "code",
        "colab": {
          "base_uri": "https://localhost:8080/",
          "height": 51
        },
        "outputId": "a9fa84ab-6371-4121-fc62-da289d613855"
      },
      "source": [
        "print(b)\n",
        "print(m)"
      ],
      "execution_count": 11,
      "outputs": [
        {
          "output_type": "stream",
          "text": [
            "0.08989889221785102\n",
            "1.4812542263671995\n"
          ],
          "name": "stdout"
        }
      ]
    },
    {
      "cell_type": "code",
      "metadata": {
        "id": "ugmQn8cU9_FF",
        "colab_type": "code",
        "colab": {}
      },
      "source": [
        ""
      ],
      "execution_count": 0,
      "outputs": []
    }
  ]
}