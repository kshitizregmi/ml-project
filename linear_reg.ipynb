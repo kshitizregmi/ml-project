{
  "nbformat": 4,
  "nbformat_minor": 0,
  "metadata": {
    "colab": {
      "name": "linear_reg.ipynb",
      "version": "0.3.2",
      "provenance": [],
      "collapsed_sections": []
    },
    "kernelspec": {
      "name": "python3",
      "display_name": "Python 3"
    }
  },
  "cells": [
    {
      "cell_type": "code",
      "metadata": {
        "id": "NMQdIrLr0WwA",
        "colab_type": "code",
        "colab": {}
      },
      "source": [
        "import matplotlib.pyplot as plt\n",
        "import numpy as np\n",
        "from sklearn.datasets import load_diabetes\n",
        "from sklearn.linear_model import LinearRegression\n",
        "from sklearn.metrics import mean_squared_error, r2_score\n",
        "\n",
        "# Load the diabetes dataset\n",
        "diabetes =load_diabetes()\n"
      ],
      "execution_count": 0,
      "outputs": []
    },
    {
      "cell_type": "code",
      "metadata": {
        "id": "K7nazsXR6XH4",
        "colab_type": "code",
        "colab": {}
      },
      "source": [
        "from sklearn.model_selection import train_test_split\n"
      ],
      "execution_count": 0,
      "outputs": []
    },
    {
      "cell_type": "code",
      "metadata": {
        "id": "MgjUxfeQxIzA",
        "colab_type": "code",
        "colab": {}
      },
      "source": [
        "x=diabetes.data\n",
        "y = diabetes.target\n",
        "x_train , x_test ,y_train , y_test = train_test_split(x ,y , train_size =0.2 ,random_state = 4 )\n"
      ],
      "execution_count": 0,
      "outputs": []
    },
    {
      "cell_type": "code",
      "metadata": {
        "id": "t_dKMl0_zwPd",
        "colab_type": "code",
        "outputId": "178c4447-434c-4c65-efa4-05a040635a8f",
        "colab": {
          "base_uri": "https://localhost:8080/",
          "height": 85
        }
      },
      "source": [
        "print(x_train.shape)\n",
        "print(y_train.shape)\n",
        "print(x_test.shape)\n",
        "print(x_test.shape)"
      ],
      "execution_count": 4,
      "outputs": [
        {
          "output_type": "stream",
          "text": [
            "(88, 10)\n",
            "(88,)\n",
            "(354, 10)\n",
            "(354, 10)\n"
          ],
          "name": "stdout"
        }
      ]
    },
    {
      "cell_type": "code",
      "metadata": {
        "id": "RgMWtZNuz2H9",
        "colab_type": "code",
        "colab": {}
      },
      "source": [
        "regression = LinearRegression()"
      ],
      "execution_count": 0,
      "outputs": []
    },
    {
      "cell_type": "code",
      "metadata": {
        "id": "PFjyz2aw0GXP",
        "colab_type": "code",
        "outputId": "b37554ed-db7a-4967-bfe2-ee36dc176b8f",
        "colab": {
          "base_uri": "https://localhost:8080/",
          "height": 34
        }
      },
      "source": [
        "# Train the model using the training sets\n",
        "regression.fit(x_train , y_train)"
      ],
      "execution_count": 6,
      "outputs": [
        {
          "output_type": "execute_result",
          "data": {
            "text/plain": [
              "LinearRegression(copy_X=True, fit_intercept=True, n_jobs=None, normalize=False)"
            ]
          },
          "metadata": {
            "tags": []
          },
          "execution_count": 6
        }
      ]
    },
    {
      "cell_type": "code",
      "metadata": {
        "id": "GlbGzniJ0UTR",
        "colab_type": "code",
        "colab": {}
      },
      "source": [
        "y_pred = regression.predict(x_test)"
      ],
      "execution_count": 0,
      "outputs": []
    },
    {
      "cell_type": "code",
      "metadata": {
        "id": "SrC1NlE_0zTD",
        "colab_type": "code",
        "outputId": "79d71f6e-d964-46d5-e569-11c4b642fa51",
        "colab": {
          "base_uri": "https://localhost:8080/",
          "height": 102
        }
      },
      "source": [
        "# The coefficients\n",
        "print('Coefficients: \\n', regression.coef_)\n",
        "# The mean squared error\n",
        "print(\"Mean squared error: %.2f\"\n",
        "      % mean_squared_error(y_test, y_pred))"
      ],
      "execution_count": 8,
      "outputs": [
        {
          "output_type": "stream",
          "text": [
            "Coefficients: \n",
            " [  273.78394716  -388.81404064   297.8984326    584.14283871\n",
            " -1185.76869365   599.62566407   268.90629725   424.52341916\n",
            "   664.31322123    21.98837166]\n",
            "Mean squared error: 3399.20\n"
          ],
          "name": "stdout"
        }
      ]
    },
    {
      "cell_type": "code",
      "metadata": {
        "id": "6kriRrcq1BL-",
        "colab_type": "code",
        "outputId": "9a1c2dbf-5495-411a-b01a-bbc3f6e3cebc",
        "colab": {
          "base_uri": "https://localhost:8080/",
          "height": 34
        }
      },
      "source": [
        "# Explained variance score: #### 1 is perfect prediction\n",
        "print('Variance score: %.2f' % r2_score(y_test, y_pred))"
      ],
      "execution_count": 9,
      "outputs": [
        {
          "output_type": "stream",
          "text": [
            "Variance score: 0.44\n"
          ],
          "name": "stdout"
        }
      ]
    }
  ]
}